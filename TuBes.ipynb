{
 "metadata": {
  "language_info": {
   "codemirror_mode": {
    "name": "ipython",
    "version": 3
   },
   "file_extension": ".py",
   "mimetype": "text/x-python",
   "name": "python",
   "nbconvert_exporter": "python",
   "pygments_lexer": "ipython3",
   "version": "3.8.5-final"
  },
  "orig_nbformat": 2,
  "kernelspec": {
   "name": "python3",
   "display_name": "Python 3.8.5 64-bit",
   "metadata": {
    "interpreter": {
     "hash": "9ce43836c8d3287a06e199a1efd6974587c1d8c7cdf961feda0708cd09e2869c"
    }
   }
  }
 },
 "nbformat": 4,
 "nbformat_minor": 2,
 "cells": [
  {
   "source": [
    "<h2>Kelompok 11"
   ],
   "cell_type": "markdown",
   "metadata": {}
  },
  {
   "source": [
    "# Nama - NIM\n",
    "\n",
    "# Dwisyah Ahmad Rizky - 16520450\n",
    "# Hilman Dzaki Mubarok - 16520440\n",
    "# M Syahrul Surya Putra - 16520430\n",
    "# Zafran Divac Azzahra - 16520460"
   ],
   "cell_type": "code",
   "metadata": {},
   "execution_count": null,
   "outputs": []
  },
  {
   "cell_type": "code",
   "execution_count": null,
   "metadata": {},
   "outputs": [],
   "source": [
    "import pandas as pd\n",
    "import matplotlib.pyplot as plt\n",
    "\n",
    "dftemp = pd.read_csv(\"DataGooglePlayStore.csv\")"
   ]
  },
  {
   "source": [
    "<h2>Data Cleansing"
   ],
   "cell_type": "markdown",
   "metadata": {}
  },
  {
   "cell_type": "code",
   "execution_count": null,
   "metadata": {},
   "outputs": [],
   "source": [
    "# Mengecek kekosongan data\n",
    "print(dftemp.info())\n",
    "\n",
    "# Menghilangkan baris data yang memiliki value kosong\n",
    "df = dftemp.dropna(axis = 0, how = \"any\").reset_index(drop=True)\n",
    "\n",
    "# Menghilangkan baris data yang memiliki dubplicate value pada kolom App\n",
    "df = df.drop_duplicates(subset = [\"App\"]).reset_index(drop=True)\n",
    "\n",
    "# Menghilangkan baris data yang memiliki rating negatif (rating paling kecil ialah 0)\n",
    "df = df.loc[df[\"Rating\"] > 0].reset_index(drop = True)\n",
    "\n",
    "# Menghilangkan baris data yang memiliki jumlah review negatif\n",
    "df[\"Reviews\"] = pd.to_numeric(df[\"Reviews\"])\n",
    "df = df.loc[df[\"Reviews\"] > 0].reset_index(drop = True)\n",
    "\n",
    "# Mengubah atribut Size menjadi integer untuk memudahkan pendataan\n",
    "df = df.loc[df[\"Size\"] != \"Varies with device\"].reset_index(drop = True)\n",
    "df[\"Size\"] = df[\"Size\"].replace({'[kK]': '*1e3', '[mM]': '*1e6', '[bB]': '*1e9'}, regex = True).map(pd.eval)\n",
    "df[\"Size\"] = round((df[\"Size\"] / 1000000), 2)\n",
    "\n",
    "# Mengubah atribut Price menjadi integer\n",
    "df[\"Price\"] = df[\"Price\"].str.replace(\"$\", \"\")\n",
    "df[\"Price\"] = pd.to_numeric(df[\"Price\"])\n",
    "\n",
    "# Mengubah data Last Updated menjadi tahun-bulan untuk memudahkan pendataan\n",
    "df[\"Last Updated\"] = pd.to_datetime(df[\"Last Updated\"]).dt.strftime(\"%Y-%b\")\n",
    "\n",
    "# Menampilkan info data yang telah dibersihkan\n",
    "print()\n",
    "print(df.info())"
   ]
  },
  {
   "source": [
    "<h2>Deskripsi Data dan File"
   ],
   "cell_type": "markdown",
   "metadata": {}
  },
  {
   "source": [
    "print(\"Data ini berisi data-data mengenai aplikasi yang ada pada Google Play Store. Yang kami ingin ketahui dari data ini ialah karakteristik Aplikasi yang relatif terkenal\")\n",
    "\n",
    "print(\"Data ini memiliki format csv atau comma separated values. Kami mengambil data ini dari https://www.kaggle.com/lava18/google-play-store-apps\")\n",
    "\n",
    "baris, kolom = df.shape\n",
    "print(\"Data ini (setelah dibersihkan) memiliki dimensi %d x %d\" % (baris, kolom))\n",
    "print(\"File yang digunakan untuk mendapatkan data ini, memiliki ukuran sebesar 1.3 MB\")"
   ],
   "cell_type": "code",
   "metadata": {},
   "execution_count": null,
   "outputs": []
  },
  {
   "source": [
    "<h2>Karakteristik Data</h2>\n",
    "<pre>Data ini terdiri dari beberapa atribut. Atribut-atribut tersebut ialah:\n",
    "- App (Nama Aplikasi) \n",
    "- Category (Kategori Aplikasi)\n",
    "- Rating (Rating pada aplikasi ketika data diambil)\n",
    "- Reviews (Banyaknya review pada aplikasi ketika data diambil)\n",
    "- Size (Ukuran aplikasi dalam MB)\n",
    "- Installs (Jumlah download/install dari pengguna ketika data diambil)\n",
    "- Type (Berbayar atau tidak)\n",
    "- Price\n",
    "- Content Rating (Kelompok usia yang menjadi target aplikasi)\n",
    "- Genres\n",
    "- Last Updated\n",
    "- Current Ver\n",
    "- Android Ver (Minimum requirement untuk versi Android ketika data diambil)\n",
    "\n",
    "Selain itu, data ini memiliki 3 tipe atribut:\n",
    "1. Kategorikal\n",
    "2. Numerikal\n",
    "3. Time\n"
   ],
   "cell_type": "markdown",
   "metadata": {}
  },
  {
   "cell_type": "code",
   "execution_count": null,
   "metadata": {},
   "outputs": [],
   "source": [
    "# Karakteristik Atribut Kategorikal\n",
    "kategorikal = [\"Category\", \"Installs\", \"Type\", \"Content Rating\", \"Genres\", \"Current Ver\", \"Android Ver\"]\n",
    "print(\"\\tApp\")\n",
    "print(df[\"App\"].value_counts())\n",
    "for i in range(len(kategorikal)):\n",
    "    print(\"\\n\\t%s\" % kategorikal[i])\n",
    "    print(df[f\"{kategorikal[i]}\"].value_counts())\n"
   ]
  },
  {
   "cell_type": "code",
   "execution_count": null,
   "metadata": {},
   "outputs": [],
   "source": [
    "# Karakteristik Atribut Kuantitatif\n",
    "kuantitatif = [\"Rating\", \"Reviews\", \"Size\", \"Price\", \"Last Updated\"]\n",
    "d = {\"Nama Kolom\" : [\"Rating\", \"Reviews\", \"Size\", \"Price\", \"Last Updated\"], 'Nilai Min' : [df[\"Rating\"].min(), df[\"Reviews\"].min(), df[\"Size\"].min(), df[\"Price\"].min(), df[\"Last Updated\"].min()], 'Nilai Max' : [df[\"Rating\"].max(), df[\"Reviews\"].max(), df[\"Size\"].max(), df[\"Price\"].max(), df[\"Last Updated\"].max()]}\n",
    "pd.DataFrame(data=d)"
   ]
  },
  {
   "source": [
    "<h2>Statistik"
   ],
   "cell_type": "markdown",
   "metadata": {}
  },
  {
   "cell_type": "code",
   "execution_count": null,
   "metadata": {},
   "outputs": [],
   "source": [
    "# Sampel Data\n",
    "# Data di sort secara descending dari atribut Rating, Reviews, Size, dan Last Updated\n",
    "df.sort_values(by=[\"Rating\", \"Reviews\", \"Size\", \"Last Updated\"], ascending = False)"
   ]
  },
  {
   "cell_type": "code",
   "execution_count": null,
   "metadata": {},
   "outputs": [],
   "source": [
    "# Statistik untuk setiap atribut data kuantitatif\n",
    "df.describe()"
   ]
  },
  {
   "cell_type": "code",
   "execution_count": null,
   "metadata": {},
   "outputs": [],
   "source": [
    "# Data rata-rata top 10 berdasarkan pengelompokan kategori\n",
    "df.groupby([\"Category\"])[\"Reviews\", \"Size\", \"Rating\"].mean().sort_values(by=[\"Reviews\", \"Rating\", \"Size\"], ascending = False).head(10)"
   ]
  },
  {
   "source": [
    "<h2>Visualisasi"
   ],
   "cell_type": "markdown",
   "metadata": {}
  },
  {
   "cell_type": "code",
   "execution_count": null,
   "metadata": {},
   "outputs": [],
   "source": [
    "bar1 = df[\"Category\"].value_counts().plot(kind = \"bar\", figsize= (15, 8), fontsize = 10, legend = True, title = \"Sebaran Jumlah Aplikasi pada tiap Kategori\")\n",
    "bar1.set(xlabel = \"Kategori\", ylabel = \"Frekuensi\")\n",
    "\n",
    "# Analisis\n",
    "# - Kategori \"FAMILY\" memiliki jumlah aplikasi yang paling banyak\n",
    "# - Kategori \"BEAUTY\" memiliki jumlah aplikasi yang paling sedikit"
   ]
  },
  {
   "cell_type": "code",
   "execution_count": null,
   "metadata": {},
   "outputs": [],
   "source": [
    "df[\"Category\"].value_counts().plot(kind=\"pie\", title=\"Perbandingan Aplikasi Berdasarkan Kategori\", figsize = (18, 8), fontsize = 7, autopct='%.2f%%')\n",
    "\n",
    "# Analisis\n",
    "# - Kategori \"FAMILY\" memiliki jumlah aplikasi yang paling banyak\n",
    "# - Kategori \"BEAUTY\" memiliki jumlah aplikasi yang paling sedikit"
   ]
  },
  {
   "cell_type": "code",
   "execution_count": null,
   "metadata": {},
   "outputs": [],
   "source": [
    "df_rating = df.loc[df[\"Rating\"] < 2][\"Category\"].value_counts()\n",
    "bar2 = df_rating.plot(kind = \"bar\", figsize = (15, 8), fontsize = 10, legend = True, title = \"Jumlah Aplikasi Tiap Kategori yang Memiliki Rating Kurang Dari 2\")\n",
    "bar2.set(xlabel = \"Kategori\", ylabel = \"Frekuensi\")\n",
    "\n",
    "# Analisis\n",
    "# - Kategori \"FAMILY\" memiliki aplikasi yang ratingnya lebih kecil dari 2 paling banyak\n",
    "# - Kategori \"BEAUTY\" memiliki aplikasi yang ratingnya lebih kecil dari 2 paling banyak"
   ]
  },
  {
   "cell_type": "code",
   "execution_count": null,
   "metadata": {},
   "outputs": [],
   "source": [
    "df.groupby([\"Category\"])[\"Rating\"].mean().sort_values(ascending = False).plot(kind = \"bar\", y = [\"Rating\"], figsize = (18, 8), fontsize = 10)\n",
    "\n",
    "# Analisis"
   ]
  },
  {
   "cell_type": "code",
   "execution_count": null,
   "metadata": {},
   "outputs": [],
   "source": [
    "df.groupby([\"Category\"])[\"Size\"].mean().sort_values(ascending = False).plot(kind = \"bar\", y = [\"Size\"], figsize = (18, 8), fontsize = 10)\n",
    "\n",
    "# Analisis"
   ]
  },
  {
   "cell_type": "code",
   "execution_count": null,
   "metadata": {},
   "outputs": [],
   "source": [
    "data_category = df.loc[df[\"Category\"] == \"GAME\"]\n",
    "data_category.groupby([\"Category\", \"Last Updated\"])[\"Reviews\"].mean().plot(kind = \"line\", figsize = (18, 8), fontsize = 8)\n",
    "\n",
    "# Analisis\n",
    "# - Aplikasi berkategori GAME yang diupdate lebih kini, memiliki jumlah reviews yang lebih besar dari yang belum di update "
   ]
  },
  {
   "source": [
    "<h2>Korelasi"
   ],
   "cell_type": "markdown",
   "metadata": {}
  },
  {
   "cell_type": "code",
   "execution_count": null,
   "metadata": {},
   "outputs": [],
   "source": [
    "# Korelasi tiap kolom kuantitatif\n",
    "df.corr()"
   ]
  },
  {
   "cell_type": "code",
   "execution_count": null,
   "metadata": {},
   "outputs": [],
   "source": [
    "# Korelasi antara Rating dan banyak Review\n",
    "df.plot(kind = \"scatter\", x = \"Rating\", y = \"Reviews\",  title = \"Scatter Plot Rating dan Reviews Aplikasi\")\n",
    "plt.show()\n",
    "\n",
    "print(\"\\nKoefisien Korelasi : \", df[\"Rating\"].corr(df[\"Reviews\"]))"
   ]
  },
  {
   "cell_type": "code",
   "execution_count": null,
   "metadata": {},
   "outputs": [],
   "source": [
    "# Korelasi antara Ukuran dan Harga\n",
    "df.plot(kind = \"scatter\", x = \"Size\", y = \"Price\",  title = \"Scatter Plot Ukuran dan Harga Aplikasi\")\n",
    "plt.show()\n",
    "\n",
    "print(\"\\nKoefisien Korelasi : \", df[\"Size\"].corr(df[\"Price\"]))"
   ]
  },
  {
   "cell_type": "code",
   "execution_count": null,
   "metadata": {},
   "outputs": [],
   "source": [
    "# Korelasi antara Rating dan Ukuran\n",
    "df.plot(kind = \"scatter\", x = \"Rating\", y = \"Size\",  title = \"Scatter Plot Rating dan Ukuran Aplikasi\")\n",
    "plt.show()\n",
    "\n",
    "print(\"\\nKoefisien Korelasi : \", df[\"Rating\"].corr(df[\"Size\"]))"
   ]
  },
  {
   "cell_type": "code",
   "execution_count": null,
   "metadata": {},
   "outputs": [],
   "source": [
    "# Korelasi antara Rating dan Harga\n",
    "df.plot(kind = \"scatter\", x = \"Rating\", y = \"Price\",  title = \"Scatter Plot Rating dan Harga Aplikasi\")\n",
    "plt.show()\n",
    "\n",
    "print(\"\\nKoefisien Korelasi : \", df[\"Rating\"].corr(df[\"Price\"]))"
   ]
  },
  {
   "cell_type": "code",
   "execution_count": null,
   "metadata": {},
   "outputs": [],
   "source": [
    "# Korelasi antara banyak Review dan Ukuran\n",
    "df.plot(kind = \"scatter\", x = \"Reviews\", y = \"Size\",  title = \"Scatter Plot Reviews dan Ukuran Aplikasi\")\n",
    "plt.show()\n",
    "\n",
    "print(\"\\nKoefisien Korelasi : \", df[\"Reviews\"].corr(df[\"Size\"]))"
   ]
  },
  {
   "cell_type": "code",
   "execution_count": null,
   "metadata": {},
   "outputs": [],
   "source": [
    "# Korelasi antara banyak Review dan Harga\n",
    "df.plot(kind = \"scatter\", x = \"Reviews\", y = \"Price\",  title = \"Scatter Plot Reviews dan Harga Aplikasi\")\n",
    "plt.show()\n",
    "\n",
    "print(\"\\nKoefisien Korelasi : \", df[\"Reviews\"].corr(df[\"Price\"]))"
   ]
  }
 ]
}